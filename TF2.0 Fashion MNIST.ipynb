{
  "nbformat": 4,
  "nbformat_minor": 0,
  "metadata": {
    "colab": {
      "name": "TF2.0 Fashion MNIST.ipynb",
      "provenance": [],
      "collapsed_sections": [],
      "authorship_tag": "ABX9TyN4RXeGdttstTZ6kdlf18JJ",
      "include_colab_link": true
    },
    "kernelspec": {
      "name": "python3",
      "display_name": "Python 3"
    }
  },
  "cells": [
    {
      "cell_type": "markdown",
      "metadata": {
        "id": "view-in-github",
        "colab_type": "text"
      },
      "source": [
        "<a href=\"https://colab.research.google.com/github/bartoszgajda55/Tensorflow2DeepLearning/blob/master/TF2.0%20Fashion%20MNIST.ipynb\" target=\"_parent\"><img src=\"https://colab.research.google.com/assets/colab-badge.svg\" alt=\"Open In Colab\"/></a>"
      ]
    },
    {
      "cell_type": "code",
      "metadata": {
        "id": "5v-W_kRsXb2T",
        "colab_type": "code",
        "colab": {}
      },
      "source": [
        "import tensorflow as tf\n",
        "import numpy as np\n",
        "import matplotlib.pyplot as plt\n",
        "from tensorflow.keras.layers import Input, Conv2D, Dense, Flatten, Dropout\n",
        "from tensorflow.keras.models import Model"
      ],
      "execution_count": 1,
      "outputs": []
    },
    {
      "cell_type": "code",
      "metadata": {
        "id": "i5zGXLrbXy5X",
        "colab_type": "code",
        "colab": {
          "base_uri": "https://localhost:8080/",
          "height": 190
        },
        "outputId": "294faf54-e685-450c-c5eb-fab00c9f8f98"
      },
      "source": [
        "# Load in the data\n",
        "fashion_mnist = tf.keras.datasets.fashion_mnist\n",
        "\n",
        "(x_train, y_train), (x_test, y_test) = fashion_mnist.load_data()\n",
        "x_train, x_test = x_train / 255.0, x_test / 255.0\n",
        "print(\"x_train.shape: \", x_train.shape)"
      ],
      "execution_count": 2,
      "outputs": [
        {
          "output_type": "stream",
          "text": [
            "Downloading data from https://storage.googleapis.com/tensorflow/tf-keras-datasets/train-labels-idx1-ubyte.gz\n",
            "32768/29515 [=================================] - 0s 0us/step\n",
            "Downloading data from https://storage.googleapis.com/tensorflow/tf-keras-datasets/train-images-idx3-ubyte.gz\n",
            "26427392/26421880 [==============================] - 0s 0us/step\n",
            "Downloading data from https://storage.googleapis.com/tensorflow/tf-keras-datasets/t10k-labels-idx1-ubyte.gz\n",
            "8192/5148 [===============================================] - 0s 0us/step\n",
            "Downloading data from https://storage.googleapis.com/tensorflow/tf-keras-datasets/t10k-images-idx3-ubyte.gz\n",
            "4423680/4422102 [==============================] - 0s 0us/step\n",
            "x_train.shape:  (60000, 28, 28)\n"
          ],
          "name": "stdout"
        }
      ]
    },
    {
      "cell_type": "code",
      "metadata": {
        "id": "xn8cwGURYZkZ",
        "colab_type": "code",
        "colab": {
          "base_uri": "https://localhost:8080/",
          "height": 34
        },
        "outputId": "bc94ed99-e492-459d-d5aa-d54dfe9c72ed"
      },
      "source": [
        "# Transform the input data\n",
        "x_train = np.expand_dims(x_train, -1)\n",
        "x_test = np.expand_dims(x_test, -1)\n",
        "print(x_train.shape)"
      ],
      "execution_count": 3,
      "outputs": [
        {
          "output_type": "stream",
          "text": [
            "(60000, 28, 28, 1)\n"
          ],
          "name": "stdout"
        }
      ]
    },
    {
      "cell_type": "code",
      "metadata": {
        "id": "2C_-boIMY1RB",
        "colab_type": "code",
        "colab": {
          "base_uri": "https://localhost:8080/",
          "height": 34
        },
        "outputId": "303b4ee9-2c48-46d0-f020-6544c982bf22"
      },
      "source": [
        "# Number of classes\n",
        "K = len(set(y_train))\n",
        "print(\"number of classes: \", K)"
      ],
      "execution_count": 4,
      "outputs": [
        {
          "output_type": "stream",
          "text": [
            "number of classes:  10\n"
          ],
          "name": "stdout"
        }
      ]
    },
    {
      "cell_type": "code",
      "metadata": {
        "id": "r64G2OP7Y-wd",
        "colab_type": "code",
        "colab": {}
      },
      "source": [
        "# Build the model using the functional API\n",
        "i = Input(shape=x_train[0].shape)\n",
        "x = Conv2D(32, [3, 3], strides=2, activation=\"relu\")(i)\n",
        "x = Conv2D(64, [3, 3], strides=2, activation=\"relu\")(x)\n",
        "x = Conv2D(128, [3, 3], strides=2, activation=\"relu\")(x)\n",
        "x = Flatten()(x)\n",
        "x = Dropout(0.2)(x)\n",
        "x = Dense(512, activation=\"relu\")(x)\n",
        "x = Dropout(0.2)(x)\n",
        "x = Dense(K, activation=\"softmax\")(x)\n",
        "\n",
        "model = Model(i, x)"
      ],
      "execution_count": 5,
      "outputs": []
    },
    {
      "cell_type": "code",
      "metadata": {
        "id": "yVG2yNKFZ3-7",
        "colab_type": "code",
        "colab": {
          "base_uri": "https://localhost:8080/",
          "height": 479
        },
        "outputId": "ce50685d-724f-4d6a-8040-c9f34ad47dd2"
      },
      "source": [
        "# Compile and fit\n",
        "model.compile(optimizer=\"adam\",\n",
        "              loss=\"sparse_categorical_crossentropy\",\n",
        "              metrics=[\"accuracy\"])\n",
        "r = model.fit(x_train, y_train, validation_data=(x_test, y_test), epochs=15)"
      ],
      "execution_count": null,
      "outputs": [
        {
          "output_type": "stream",
          "text": [
            "Epoch 1/15\n",
            "1875/1875 [==============================] - 29s 15ms/step - loss: 0.5228 - accuracy: 0.8063 - val_loss: 0.3925 - val_accuracy: 0.8529\n",
            "Epoch 2/15\n",
            "1875/1875 [==============================] - 29s 15ms/step - loss: 0.3633 - accuracy: 0.8640 - val_loss: 0.3402 - val_accuracy: 0.8748\n",
            "Epoch 3/15\n",
            "1875/1875 [==============================] - 30s 16ms/step - loss: 0.3128 - accuracy: 0.8836 - val_loss: 0.3113 - val_accuracy: 0.8866\n",
            "Epoch 4/15\n",
            "1875/1875 [==============================] - 28s 15ms/step - loss: 0.2801 - accuracy: 0.8946 - val_loss: 0.3021 - val_accuracy: 0.8929\n",
            "Epoch 5/15\n",
            "1875/1875 [==============================] - 28s 15ms/step - loss: 0.2547 - accuracy: 0.9045 - val_loss: 0.2883 - val_accuracy: 0.8946\n",
            "Epoch 6/15\n",
            "1875/1875 [==============================] - 28s 15ms/step - loss: 0.2368 - accuracy: 0.9113 - val_loss: 0.3149 - val_accuracy: 0.8868\n",
            "Epoch 7/15\n",
            "1875/1875 [==============================] - 28s 15ms/step - loss: 0.2197 - accuracy: 0.9165 - val_loss: 0.2986 - val_accuracy: 0.9006\n",
            "Epoch 8/15\n",
            "1875/1875 [==============================] - 28s 15ms/step - loss: 0.2023 - accuracy: 0.9228 - val_loss: 0.2981 - val_accuracy: 0.8980\n",
            "Epoch 9/15\n",
            "1875/1875 [==============================] - 28s 15ms/step - loss: 0.1885 - accuracy: 0.9277 - val_loss: 0.3156 - val_accuracy: 0.8941\n",
            "Epoch 10/15\n",
            "1875/1875 [==============================] - 28s 15ms/step - loss: 0.1769 - accuracy: 0.9324 - val_loss: 0.3095 - val_accuracy: 0.9007\n",
            "Epoch 11/15\n",
            "1875/1875 [==============================] - 28s 15ms/step - loss: 0.1630 - accuracy: 0.9377 - val_loss: 0.3335 - val_accuracy: 0.9015\n",
            "Epoch 12/15\n",
            "1875/1875 [==============================] - 28s 15ms/step - loss: 0.1562 - accuracy: 0.9400 - val_loss: 0.3166 - val_accuracy: 0.9008\n",
            "Epoch 13/15\n",
            " 125/1875 [=>............................] - ETA: 24s - loss: 0.1483 - accuracy: 0.9442"
          ],
          "name": "stdout"
        }
      ]
    },
    {
      "cell_type": "code",
      "metadata": {
        "id": "PnWIP5JWaS_w",
        "colab_type": "code",
        "colab": {}
      },
      "source": [
        "# Plot loss per iteration\n",
        "plt.plot(r.history[\"loss\"], label=\"loss\")\n",
        "plt.plot(r.history[\"val_loss\"], label=\"val_loss\")\n",
        "plt.legend()"
      ],
      "execution_count": null,
      "outputs": []
    }
  ]
}