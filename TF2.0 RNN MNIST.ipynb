{
  "nbformat": 4,
  "nbformat_minor": 0,
  "metadata": {
    "colab": {
      "name": "TF2.0 RNN MNIST.ipynb",
      "provenance": [],
      "collapsed_sections": [],
      "authorship_tag": "ABX9TyOOGEQojU8sFzZ4Suh0AtNR",
      "include_colab_link": true
    },
    "kernelspec": {
      "name": "python3",
      "display_name": "Python 3"
    }
  },
  "cells": [
    {
      "cell_type": "markdown",
      "metadata": {
        "id": "view-in-github",
        "colab_type": "text"
      },
      "source": [
        "<a href=\"https://colab.research.google.com/github/bartoszgajda55/Tensorflow2DeepLearning/blob/master/TF2.0%20RNN%20MNIST.ipynb\" target=\"_parent\"><img src=\"https://colab.research.google.com/assets/colab-badge.svg\" alt=\"Open In Colab\"/></a>"
      ]
    },
    {
      "cell_type": "code",
      "metadata": {
        "id": "ZlxdbohwC93j",
        "colab_type": "code",
        "colab": {}
      },
      "source": [
        "import tensorflow as tf\n",
        "from tensorflow.keras.layers import Input, SimpleRNN, GRU, LSTM, Dense, Flatten\n",
        "from tensorflow.keras.models import Model\n",
        "from tensorflow.keras.optimizers import SGD, Adam\n",
        "\n",
        "import numpy as np\n",
        "import pandas as pd\n",
        "import matplotlib.pyplot as plt"
      ],
      "execution_count": 1,
      "outputs": []
    },
    {
      "cell_type": "code",
      "metadata": {
        "id": "dSlxZpeoDVOH",
        "colab_type": "code",
        "colab": {
          "base_uri": "https://localhost:8080/",
          "height": 88
        },
        "outputId": "13624718-7cb1-480d-9616-7e005644a888"
      },
      "source": [
        "mnist = tf.keras.datasets.mnist\n",
        "\n",
        "(x_train, y_train), (x_test, y_test) = mnist.load_data()\n",
        "x_train, x_test = x_train / 255.0, x_test / 255.0\n",
        "print(\"x_train.shape:\", x_train.shape)"
      ],
      "execution_count": 2,
      "outputs": [
        {
          "output_type": "stream",
          "text": [
            "Downloading data from https://storage.googleapis.com/tensorflow/tf-keras-datasets/mnist.npz\n",
            "11493376/11490434 [==============================] - 0s 0us/step\n",
            "x_train.shape: (60000, 28, 28)\n"
          ],
          "name": "stdout"
        }
      ]
    },
    {
      "cell_type": "code",
      "metadata": {
        "id": "wSZdwudjDml_",
        "colab_type": "code",
        "colab": {}
      },
      "source": [
        "i = Input(shape=x_train[0].shape)\n",
        "x = LSTM(128)(i)\n",
        "x = Dense(10, activation=\"softmax\")(x)\n",
        "\n",
        "model = Model(i, x)"
      ],
      "execution_count": 3,
      "outputs": []
    },
    {
      "cell_type": "code",
      "metadata": {
        "id": "ZvsxKWjcD19E",
        "colab_type": "code",
        "colab": {
          "base_uri": "https://localhost:8080/",
          "height": 377
        },
        "outputId": "ea951918-6db1-453a-d353-1b38d82a0087"
      },
      "source": [
        "model.compile(\n",
        "    optimizer=\"adam\",\n",
        "    loss=\"sparse_categorical_crossentropy\",\n",
        "    metrics=[\"accuracy\"]\n",
        ")\n",
        "\n",
        "r = model.fit(x_train, y_train, validation_data=(x_test, y_test), epochs=10)"
      ],
      "execution_count": null,
      "outputs": [
        {
          "output_type": "stream",
          "text": [
            "Epoch 1/10\n",
            "1875/1875 [==============================] - 48s 25ms/step - loss: 0.3288 - accuracy: 0.8939 - val_loss: 0.1123 - val_accuracy: 0.9647\n",
            "Epoch 2/10\n",
            "1875/1875 [==============================] - 47s 25ms/step - loss: 0.1068 - accuracy: 0.9681 - val_loss: 0.1057 - val_accuracy: 0.9674\n",
            "Epoch 3/10\n",
            "1875/1875 [==============================] - 47s 25ms/step - loss: 0.0769 - accuracy: 0.9761 - val_loss: 0.0785 - val_accuracy: 0.9768\n",
            "Epoch 4/10\n",
            "1875/1875 [==============================] - 47s 25ms/step - loss: 0.0573 - accuracy: 0.9822 - val_loss: 0.0549 - val_accuracy: 0.9835\n",
            "Epoch 5/10\n",
            "1875/1875 [==============================] - 47s 25ms/step - loss: 0.0480 - accuracy: 0.9853 - val_loss: 0.0544 - val_accuracy: 0.9830\n",
            "Epoch 6/10\n",
            "1875/1875 [==============================] - 47s 25ms/step - loss: 0.0401 - accuracy: 0.9877 - val_loss: 0.0456 - val_accuracy: 0.9865\n",
            "Epoch 7/10\n",
            "1875/1875 [==============================] - 47s 25ms/step - loss: 0.0343 - accuracy: 0.9895 - val_loss: 0.0483 - val_accuracy: 0.9863\n",
            "Epoch 8/10\n",
            "1875/1875 [==============================] - 48s 26ms/step - loss: 0.0304 - accuracy: 0.9905 - val_loss: 0.0370 - val_accuracy: 0.9888\n",
            "Epoch 9/10\n",
            "1875/1875 [==============================] - 48s 26ms/step - loss: 0.0258 - accuracy: 0.9921 - val_loss: 0.0497 - val_accuracy: 0.9846\n",
            "Epoch 10/10\n",
            "  42/1875 [..............................] - ETA: 45s - loss: 0.0142 - accuracy: 0.9955"
          ],
          "name": "stdout"
        }
      ]
    },
    {
      "cell_type": "code",
      "metadata": {
        "id": "wAONpLN9EIdn",
        "colab_type": "code",
        "colab": {}
      },
      "source": [
        "plt.plot(r.history[\"loss\"], label=\"loss\")\n",
        "plt.plot(r.history[\"val_loss\"], label=\"val_loss\")\n",
        "plt.legend()"
      ],
      "execution_count": null,
      "outputs": []
    },
    {
      "cell_type": "code",
      "metadata": {
        "id": "bQWoABICEiOb",
        "colab_type": "code",
        "colab": {}
      },
      "source": [
        "plt.plot(r.history[\"accuracy\"], label=\"accuracy\")\n",
        "plt.plot(r.history[\"val_accuracy\"], label=\"val_accuracy\")\n",
        "plt.legend()"
      ],
      "execution_count": null,
      "outputs": []
    },
    {
      "cell_type": "code",
      "metadata": {
        "id": "3aclYyynEliq",
        "colab_type": "code",
        "colab": {}
      },
      "source": [
        "# Show some misclassified examples\n",
        "misclassified_idx = np.where(p_test != y_test)[0]\n",
        "i = np.random.choice(misclassified_idx)\n",
        "plt.imshow(x_test[i], cmap=\"gray\")\n",
        "plt.title(\"True label: %s PredictedL %s\" % (y_test[i], p_test[i]))"
      ],
      "execution_count": null,
      "outputs": []
    }
  ]
}