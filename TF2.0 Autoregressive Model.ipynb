{
  "nbformat": 4,
  "nbformat_minor": 0,
  "metadata": {
    "colab": {
      "name": "TF2.0 Autoregressive Model.ipynb",
      "provenance": [],
      "authorship_tag": "ABX9TyMhboJ0nhNZsm0eFzsrGwK/",
      "include_colab_link": true
    },
    "kernelspec": {
      "name": "python3",
      "display_name": "Python 3"
    }
  },
  "cells": [
    {
      "cell_type": "markdown",
      "metadata": {
        "id": "view-in-github",
        "colab_type": "text"
      },
      "source": [
        "<a href=\"https://colab.research.google.com/github/bartoszgajda55/Tensorflow2DeepLearning/blob/master/TF2.0%20Autoregressive%20Model.ipynb\" target=\"_parent\"><img src=\"https://colab.research.google.com/assets/colab-badge.svg\" alt=\"Open In Colab\"/></a>"
      ]
    },
    {
      "cell_type": "code",
      "metadata": {
        "id": "DEJXu7S9c4KE",
        "colab_type": "code",
        "colab": {}
      },
      "source": [
        "import tensorflow as tf\n",
        "import numpy as np\n",
        "import pandas as pd\n",
        "import matplotlib.pyplot as plt\n",
        "\n",
        "from tensorflow.keras.layers import Input, Dense\n",
        "from tensorflow.keras.models import Model\n",
        "from tensorflow.keras.optimizers import SGD, Adam"
      ],
      "execution_count": 1,
      "outputs": []
    },
    {
      "cell_type": "code",
      "metadata": {
        "id": "pEYhcwkzdQv1",
        "colab_type": "code",
        "colab": {
          "base_uri": "https://localhost:8080/",
          "height": 265
        },
        "outputId": "e395c845-de08-428e-bdb8-37b903ec7ef8"
      },
      "source": [
        "# Make the original data\n",
        "series = np.sin(0.1 * np.arange(200))\n",
        "\n",
        "plt.plot(series)\n",
        "plt.show()"
      ],
      "execution_count": 2,
      "outputs": [
        {
          "output_type": "display_data",
          "data": {
            "image/png": "[encoded data removed]",
            "text/plain": [
              "<Figure size 432x288 with 1 Axes>"
            ]
          },
          "metadata": {
            "tags": [],
            "needs_background": "light"
          }
        }
      ]
    },
    {
      "cell_type": "code",
      "metadata": {
        "id": "Rbw1Tc74dfew",
        "colab_type": "code",
        "colab": {
          "base_uri": "https://localhost:8080/",
          "height": 34
        },
        "outputId": "d1675016-ab38-4bbe-dc5d-bbbd735c9dfb"
      },
      "source": [
        "# Build the dataset\n",
        "T = 10\n",
        "X = []\n",
        "Y = []\n",
        "for t in range(len(series) - T):\n",
        "  x = series[t:t+T]\n",
        "  X.append(x)\n",
        "  y = series[t+T]\n",
        "  Y.append(y)\n",
        "\n",
        "X = np.array(X).reshape(-1, T)\n",
        "Y = np.array(Y)\n",
        "N = len(X)\n",
        "print(\"X.shape\", X.shape, \"Y.shape\", Y.shape)"
      ],
      "execution_count": 4,
      "outputs": [
        {
          "output_type": "stream",
          "text": [
            "X.shape (190, 10) Y.shape (190,)\n"
          ],
          "name": "stdout"
        }
      ]
    },
    {
      "cell_type": "code",
      "metadata": {
        "id": "QynojgrOeCXW",
        "colab_type": "code",
        "colab": {
          "base_uri": "https://localhost:8080/",
          "height": 1000
        },
        "outputId": "c8afdfaf-97b5-441f-8d3b-3801a8b4be84"
      },
      "source": [
        "# Try autoregressive model\n",
        "i = Input(shape=(T,))\n",
        "x = Dense(1)(i)\n",
        "model = Model(i, x)\n",
        "model.compile(\n",
        "    loss='mse',\n",
        "    optimizer=Adam(lr=0.1)\n",
        ")\n",
        "\n",
        "# Train the RNN\n",
        "r = model.fit(\n",
        "    X[:-N//2], Y[:-N//2],\n",
        "    epochs=80,\n",
        "    validation_data=(X[-N//2:], Y[-N//2:]),\n",
        ")"
      ],
      "execution_count": 6,
      "outputs": [
        {
          "output_type": "stream",
          "text": [
            "Epoch 1/80\n",
            "3/3 [==============================] - 0s 52ms/step - loss: 1.5581 - val_loss: 0.5331\n",
            "Epoch 2/80\n",
            "3/3 [==============================] - 0s 14ms/step - loss: 0.8026 - val_loss: 0.9773\n",
            "Epoch 3/80\n",
            "3/3 [==============================] - 0s 13ms/step - loss: 0.7047 - val_loss: 0.3261\n",
            "Epoch 4/80\n",
            "3/3 [==============================] - 0s 13ms/step - loss: 0.1972 - val_loss: 0.2332\n",
            "Epoch 5/80\n",
            "3/3 [==============================] - 0s 14ms/step - loss: 0.3207 - val_loss: 0.1988\n",
            "Epoch 6/80\n",
            "3/3 [==============================] - 0s 13ms/step - loss: 0.1462 - val_loss: 0.0150\n",
            "Epoch 7/80\n",
            "3/3 [==============================] - 0s 15ms/step - loss: 0.0309 - val_loss: 0.0636\n",
            "Epoch 8/80\n",
            "3/3 [==============================] - 0s 15ms/step - loss: 0.0911 - val_loss: 0.0436\n",
            "Epoch 9/80\n",
            "3/3 [==============================] - 0s 14ms/step - loss: 0.0334 - val_loss: 0.0136\n",
            "Epoch 10/80\n",
            "3/3 [==============================] - 0s 14ms/step - loss: 0.0209 - val_loss: 0.0558\n",
            "Epoch 11/80\n",
            "3/3 [==============================] - 0s 18ms/step - loss: 0.0512 - val_loss: 0.0288\n",
            "Epoch 12/80\n",
            "3/3 [==============================] - 0s 14ms/step - loss: 0.0217 - val_loss: 0.0180\n",
            "Epoch 13/80\n",
            "3/3 [==============================] - 0s 15ms/step - loss: 0.0236 - val_loss: 0.0279\n",
            "Epoch 14/80\n",
            "3/3 [==============================] - 0s 16ms/step - loss: 0.0213 - val_loss: 0.0067\n",
            "Epoch 15/80\n",
            "3/3 [==============================] - 0s 15ms/step - loss: 0.0061 - val_loss: 0.0102\n",
            "Epoch 16/80\n",
            "3/3 [==============================] - 0s 16ms/step - loss: 0.0113 - val_loss: 0.0071\n",
            "Epoch 17/80\n",
            "3/3 [==============================] - 0s 14ms/step - loss: 0.0029 - val_loss: 9.4198e-04\n",
            "Epoch 18/80\n",
            "3/3 [==============================] - 0s 14ms/step - loss: 0.0035 - val_loss: 0.0038\n",
            "Epoch 19/80\n",
            "3/3 [==============================] - 0s 14ms/step - loss: 0.0034 - val_loss: 6.4248e-04\n",
            "Epoch 20/80\n",
            "3/3 [==============================] - 0s 14ms/step - loss: 0.0016 - val_loss: 0.0027\n",
            "Epoch 21/80\n",
            "3/3 [==============================] - 0s 15ms/step - loss: 0.0029 - val_loss: 0.0012\n",
            "Epoch 22/80\n",
            "3/3 [==============================] - 0s 16ms/step - loss: 9.6860e-04 - val_loss: 0.0019\n",
            "Epoch 23/80\n",
            "3/3 [==============================] - 0s 14ms/step - loss: 0.0018 - val_loss: 8.4692e-04\n",
            "Epoch 24/80\n",
            "3/3 [==============================] - 0s 18ms/step - loss: 5.1446e-04 - val_loss: 4.3802e-04\n",
            "Epoch 25/80\n",
            "3/3 [==============================] - 0s 13ms/step - loss: 6.0310e-04 - val_loss: 4.8594e-04\n",
            "Epoch 26/80\n",
            "3/3 [==============================] - 0s 13ms/step - loss: 2.1311e-04 - val_loss: 2.3643e-05\n",
            "Epoch 27/80\n",
            "3/3 [==============================] - 0s 13ms/step - loss: 1.8610e-04 - val_loss: 2.8583e-04\n",
            "Epoch 28/80\n",
            "3/3 [==============================] - 0s 14ms/step - loss: 2.0930e-04 - val_loss: 5.8658e-05\n",
            "Epoch 29/80\n",
            "3/3 [==============================] - 0s 14ms/step - loss: 1.4094e-04 - val_loss: 1.9653e-04\n",
            "Epoch 30/80\n",
            "3/3 [==============================] - 0s 13ms/step - loss: 1.6929e-04 - val_loss: 5.6847e-05\n",
            "Epoch 31/80\n",
            "3/3 [==============================] - 0s 12ms/step - loss: 7.7920e-05 - val_loss: 9.3795e-05\n",
            "Epoch 32/80\n",
            "3/3 [==============================] - 0s 12ms/step - loss: 7.4485e-05 - val_loss: 1.6362e-05\n",
            "Epoch 33/80\n",
            "3/3 [==============================] - 0s 15ms/step - loss: 2.1499e-05 - val_loss: 4.2914e-05\n",
            "Epoch 34/80\n",
            "3/3 [==============================] - 0s 13ms/step - loss: 2.8230e-05 - val_loss: 8.2367e-07\n",
            "Epoch 35/80\n",
            "3/3 [==============================] - 0s 13ms/step - loss: 8.2597e-06 - val_loss: 2.7959e-05\n",
            "Epoch 36/80\n",
            "3/3 [==============================] - 0s 13ms/step - loss: 1.9884e-05 - val_loss: 9.5948e-06\n",
            "Epoch 37/80\n",
            "3/3 [==============================] - 0s 14ms/step - loss: 9.5760e-06 - val_loss: 1.5224e-05\n",
            "Epoch 38/80\n",
            "3/3 [==============================] - 0s 13ms/step - loss: 1.3256e-05 - val_loss: 4.1330e-06\n",
            "Epoch 39/80\n",
            "3/3 [==============================] - 0s 12ms/step - loss: 5.2868e-06 - val_loss: 7.7720e-06\n",
            "Epoch 40/80\n",
            "3/3 [==============================] - 0s 13ms/step - loss: 6.8689e-06 - val_loss: 3.9512e-07\n",
            "Epoch 41/80\n",
            "3/3 [==============================] - 0s 13ms/step - loss: 2.0851e-06 - val_loss: 3.5201e-06\n",
            "Epoch 42/80\n",
            "3/3 [==============================] - 0s 12ms/step - loss: 2.4253e-06 - val_loss: 4.3955e-07\n",
            "Epoch 43/80\n",
            "3/3 [==============================] - 0s 15ms/step - loss: 1.7666e-06 - val_loss: 2.4599e-06\n",
            "Epoch 44/80\n",
            "3/3 [==============================] - 0s 14ms/step - loss: 1.5764e-06 - val_loss: 1.0934e-06\n",
            "Epoch 45/80\n",
            "3/3 [==============================] - 0s 13ms/step - loss: 1.4806e-06 - val_loss: 1.6033e-06\n",
            "Epoch 46/80\n",
            "3/3 [==============================] - 0s 13ms/step - loss: 7.8666e-07 - val_loss: 4.7829e-07\n",
            "Epoch 47/80\n",
            "3/3 [==============================] - 0s 13ms/step - loss: 7.0132e-07 - val_loss: 3.0882e-07\n",
            "Epoch 48/80\n",
            "3/3 [==============================] - 0s 12ms/step - loss: 1.9079e-07 - val_loss: 2.4882e-07\n",
            "Epoch 49/80\n",
            "3/3 [==============================] - 0s 12ms/step - loss: 3.5598e-07 - val_loss: 1.0037e-07\n",
            "Epoch 50/80\n",
            "3/3 [==============================] - 0s 12ms/step - loss: 1.0962e-07 - val_loss: 2.7648e-07\n",
            "Epoch 51/80\n",
            "3/3 [==============================] - 0s 12ms/step - loss: 2.1911e-07 - val_loss: 9.2550e-08\n",
            "Epoch 52/80\n",
            "3/3 [==============================] - 0s 13ms/step - loss: 1.1206e-07 - val_loss: 1.4099e-07\n",
            "Epoch 53/80\n",
            "3/3 [==============================] - 0s 15ms/step - loss: 9.8066e-08 - val_loss: 3.0110e-08\n",
            "Epoch 54/80\n",
            "3/3 [==============================] - 0s 12ms/step - loss: 4.4834e-08 - val_loss: 4.2283e-08\n",
            "Epoch 55/80\n",
            "3/3 [==============================] - 0s 13ms/step - loss: 1.8021e-08 - val_loss: 1.2915e-08\n",
            "Epoch 56/80\n",
            "3/3 [==============================] - 0s 12ms/step - loss: 2.6923e-08 - val_loss: 1.5350e-08\n",
            "Epoch 57/80\n",
            "3/3 [==============================] - 0s 12ms/step - loss: 1.2255e-08 - val_loss: 2.3963e-08\n",
            "Epoch 58/80\n",
            "3/3 [==============================] - 0s 12ms/step - loss: 2.3993e-08 - val_loss: 1.2870e-08\n",
            "Epoch 59/80\n",
            "3/3 [==============================] - 0s 12ms/step - loss: 1.2323e-08 - val_loss: 1.3115e-08\n",
            "Epoch 60/80\n",
            "3/3 [==============================] - 0s 14ms/step - loss: 8.2553e-09 - val_loss: 2.1586e-09\n",
            "Epoch 61/80\n",
            "3/3 [==============================] - 0s 13ms/step - loss: 4.1786e-09 - val_loss: 2.9455e-09\n",
            "Epoch 62/80\n",
            "3/3 [==============================] - 0s 16ms/step - loss: 1.4295e-09 - val_loss: 2.5483e-09\n",
            "Epoch 63/80\n",
            "3/3 [==============================] - 0s 12ms/step - loss: 3.1853e-09 - val_loss: 1.6485e-09\n",
            "Epoch 64/80\n",
            "3/3 [==============================] - 0s 12ms/step - loss: 1.9482e-09 - val_loss: 2.6609e-09\n",
            "Epoch 65/80\n",
            "3/3 [==============================] - 0s 13ms/step - loss: 2.1374e-09 - val_loss: 1.0067e-09\n",
            "Epoch 66/80\n",
            "3/3 [==============================] - 0s 13ms/step - loss: 1.2329e-09 - val_loss: 6.9906e-10\n",
            "Epoch 67/80\n",
            "3/3 [==============================] - 0s 13ms/step - loss: 3.9386e-10 - val_loss: 4.4598e-10\n",
            "Epoch 68/80\n",
            "3/3 [==============================] - 0s 13ms/step - loss: 4.6454e-10 - val_loss: 1.1318e-10\n",
            "Epoch 69/80\n",
            "3/3 [==============================] - 0s 13ms/step - loss: 2.8602e-10 - val_loss: 6.4808e-10\n",
            "Epoch 70/80\n",
            "3/3 [==============================] - 0s 13ms/step - loss: 3.9568e-10 - val_loss: 2.6721e-10\n",
            "Epoch 71/80\n",
            "3/3 [==============================] - 0s 13ms/step - loss: 3.5984e-10 - val_loss: 2.2341e-10\n",
            "Epoch 72/80\n",
            "3/3 [==============================] - 0s 17ms/step - loss: 1.6460e-10 - val_loss: 1.5672e-10\n",
            "Epoch 73/80\n",
            "3/3 [==============================] - 0s 18ms/step - loss: 1.4194e-10 - val_loss: 9.3644e-13\n",
            "Epoch 74/80\n",
            "3/3 [==============================] - 0s 13ms/step - loss: 5.3849e-11 - val_loss: 7.1074e-11\n",
            "Epoch 75/80\n",
            "3/3 [==============================] - 0s 14ms/step - loss: 5.9031e-11 - val_loss: 7.4048e-11\n",
            "Epoch 76/80\n",
            "3/3 [==============================] - 0s 13ms/step - loss: 8.5239e-11 - val_loss: 4.2048e-11\n",
            "Epoch 77/80\n",
            "3/3 [==============================] - 0s 14ms/step - loss: 4.2541e-11 - val_loss: 6.1544e-11\n",
            "Epoch 78/80\n",
            "3/3 [==============================] - 0s 13ms/step - loss: 3.5313e-11 - val_loss: 1.1874e-11\n",
            "Epoch 79/80\n",
            "3/3 [==============================] - 0s 12ms/step - loss: 1.9589e-11 - val_loss: 6.7496e-12\n",
            "Epoch 80/80\n",
            "3/3 [==============================] - 0s 12ms/step - loss: 5.5684e-12 - val_loss: 1.4594e-11\n"
          ],
          "name": "stdout"
        }
      ]
    },
    {
      "cell_type": "code",
      "metadata": {
        "id": "O__vxVz5e8OJ",
        "colab_type": "code",
        "colab": {
          "base_uri": "https://localhost:8080/",
          "height": 282
        },
        "outputId": "ab82b445-a294-4080-822c-143720bc80c4"
      },
      "source": [
        "# Plot loss per iteration\n",
        "plt.plot(r.history[\"loss\"], label=\"loss\")\n",
        "plt.plot(r.history[\"val_loss\"], label=\"val_loss\")\n",
        "plt.legend()"
      ],
      "execution_count": 7,
      "outputs": [
        {
          "output_type": "execute_result",
          "data": {
            "text/plain": [
              "<matplotlib.legend.Legend at 0x7f678bc1e6a0>"
            ]
          },
          "metadata": {
            "tags": []
          },
          "execution_count": 7
        },
        {
          "output_type": "display_data",
          "data": {
            "image/png": "[encoded data removed]",
            "text/plain": [
              "<Figure size 432x288 with 1 Axes>"
            ]
          },
          "metadata": {
            "tags": [],
            "needs_background": "light"
          }
        }
      ]
    },
    {
      "cell_type": "code",
      "metadata": {
        "id": "M7KuCO59fbuK",
        "colab_type": "code",
        "colab": {}
      },
      "source": [
        "# Forecast future values\n",
        "validation_target = Y[-N//2:]\n",
        "validation_predictions = []\n",
        "\n",
        "# Last train input\n",
        "last_x = X[-N//2]\n",
        "\n",
        "while len(validation_predictions) < len(validation_target):\n",
        "  p = model.predict(last_x.reshape(1, -1))[0, 0] # 1x1 array\n",
        "  \n",
        "  # Update predictions list\n",
        "  validation_predictions.append(p)\n",
        "\n",
        "  # Make the new input\n",
        "  last_x = np.roll(last_x, -1)\n",
        "  last_x[-1] = p"
      ],
      "execution_count": 8,
      "outputs": []
    },
    {
      "cell_type": "code",
      "metadata": {
        "id": "6M9nVCZWgmut",
        "colab_type": "code",
        "colab": {
          "base_uri": "https://localhost:8080/",
          "height": 282
        },
        "outputId": "beca62b1-ee70-45bf-9116-e1958e2b76fe"
      },
      "source": [
        "plt.plot(validation_target, label=\"forecast_target\")\n",
        "plt.plot(validation_predictions, label=\"forecast_prediction\")\n",
        "plt.legend()"
      ],
      "execution_count": 10,
      "outputs": [
        {
          "output_type": "execute_result",
          "data": {
            "text/plain": [
              "<matplotlib.legend.Legend at 0x7f678cb81748>"
            ]
          },
          "metadata": {
            "tags": []
          },
          "execution_count": 10
        },
        {
          "output_type": "display_data",
          "data": {
            "image/png": "[encoded data removed]",
            "text/plain": [
              "<Figure size 432x288 with 1 Axes>"
            ]
          },
          "metadata": {
            "tags": [],
            "needs_background": "light"
          }
        }
      ]
    },
    {
      "cell_type": "code",
      "metadata": {
        "id": "EkmZyMIPgvo3",
        "colab_type": "code",
        "colab": {}
      },
      "source": [
        ""
      ],
      "execution_count": null,
      "outputs": []
    }
  ]
}